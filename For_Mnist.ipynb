{
 "cells": [
  {
   "cell_type": "code",
   "execution_count": 2,
   "id": "f21f6bcd",
   "metadata": {},
   "outputs": [
    {
     "name": "stdout",
     "output_type": "stream",
     "text": [
      "importing Jupyter notebook from process_img.ipynb\n"
     ]
    }
   ],
   "source": [
    "import import_ipynb\n",
    "import cv2\n",
    "import numpy as np\n",
    "import matplotlib.pyplot as plt\n",
    "import pytesseract\n",
    "import os\n",
    "import math\n",
    "from process_img import process_img"
   ]
  },
  {
   "cell_type": "code",
   "execution_count": 3,
   "id": "a64b833d",
   "metadata": {},
   "outputs": [
    {
     "name": "stdout",
     "output_type": "stream",
     "text": [
      "Done\n",
      "Done\n",
      "Done\n",
      "Done\n",
      "Done\n",
      "Done\n",
      "Done\n",
      "Done\n",
      "Done\n",
      "Done\n",
      "Done\n"
     ]
    }
   ],
   "source": [
    "index = 1\n",
    "while True:\n",
    "    if not process_img(index):\n",
    "        break\n",
    "    index += 1"
   ]
  },
  {
   "cell_type": "code",
   "execution_count": 11,
   "id": "6c335697",
   "metadata": {},
   "outputs": [
    {
     "name": "stdout",
     "output_type": "stream",
     "text": [
      "['./cropped\\\\file_10_cropped_0.jpg', './cropped\\\\file_11_cropped_0.jpg', './cropped\\\\file_11_cropped_1.jpg', './cropped\\\\file_1_cropped_0.jpg', './cropped\\\\file_2_cropped_0.jpg', './cropped\\\\file_3_cropped_0.jpg', './cropped\\\\file_3_cropped_1.jpg', './cropped\\\\file_3_cropped_2.jpg', './cropped\\\\file_4_cropped_0.jpg', './cropped\\\\file_4_cropped_1.jpg', './cropped\\\\file_4_cropped_2.jpg', './cropped\\\\file_5_cropped_0.jpg', './cropped\\\\file_5_cropped_1.jpg', './cropped\\\\file_5_cropped_2.jpg', './cropped\\\\file_6_cropped_0.jpg', './cropped\\\\file_6_cropped_1.jpg', './cropped\\\\file_6_cropped_2.jpg', './cropped\\\\file_6_cropped_3.jpg', './cropped\\\\file_7_cropped_0.jpg', './cropped\\\\file_7_cropped_1.jpg', './cropped\\\\file_7_cropped_2.jpg', './cropped\\\\file_8_cropped_0.jpg', './cropped\\\\file_8_cropped_1.jpg', './cropped\\\\file_8_cropped_2.jpg', './cropped\\\\file_8_cropped_3.jpg', './cropped\\\\file_9_cropped_0.jpg']\n",
      "['./cropped\\\\file_10_cropped_0.jpg']\n",
      "['./cropped\\\\file_11_cropped_0.jpg', './cropped\\\\file_11_cropped_1.jpg']\n",
      "['./cropped\\\\file_1_cropped_0.jpg']\n",
      "['./cropped\\\\file_2_cropped_0.jpg']\n",
      "['./cropped\\\\file_3_cropped_0.jpg', './cropped\\\\file_3_cropped_1.jpg', './cropped\\\\file_3_cropped_2.jpg']\n",
      "['./cropped\\\\file_4_cropped_0.jpg', './cropped\\\\file_4_cropped_1.jpg', './cropped\\\\file_4_cropped_2.jpg']\n",
      "['./cropped\\\\file_5_cropped_0.jpg', './cropped\\\\file_5_cropped_1.jpg', './cropped\\\\file_5_cropped_2.jpg']\n",
      "['./cropped\\\\file_6_cropped_0.jpg', './cropped\\\\file_6_cropped_1.jpg', './cropped\\\\file_6_cropped_2.jpg', './cropped\\\\file_6_cropped_3.jpg']\n",
      "['./cropped\\\\file_7_cropped_0.jpg', './cropped\\\\file_7_cropped_1.jpg', './cropped\\\\file_7_cropped_2.jpg']\n",
      "['./cropped\\\\file_8_cropped_0.jpg', './cropped\\\\file_8_cropped_1.jpg', './cropped\\\\file_8_cropped_2.jpg', './cropped\\\\file_8_cropped_3.jpg']\n",
      "['./cropped\\\\file_9_cropped_0.jpg']\n"
     ]
    }
   ],
   "source": [
    "dir_path = './cropped'\n",
    "sources = []\n",
    "for (root, directories, files) in os.walk(dir_path):\n",
    "    for file in files:\n",
    "        if '.jpg' in file:\n",
    "            file_path = os.path.join(root, file)\n",
    "            sources.append(file_path)\n",
    "            \n",
    "src = [[] for _ in range(100)]\n",
    "index = 0\n",
    "temp = sources[0]\n",
    "cnt = 0\n",
    "print(sources)\n",
    "\n",
    "\n",
    "while cnt < len(sources):\n",
    "    if temp[10:-6] == sources[cnt][10:-6]:\n",
    "        src[index].append(sources[cnt])\n",
    "        temp = sources[cnt]\n",
    "        cnt += 1\n",
    "    else:\n",
    "        temp = sources[cnt]\n",
    "        index += 1\n",
    "src = list(filter(None, src))\n",
    "\n",
    "for i in src:\n",
    "    print(i)\n"
   ]
  },
  {
   "cell_type": "code",
   "execution_count": 19,
   "id": "1fa0a502",
   "metadata": {
    "scrolled": false
   },
   "outputs": [],
   "source": [
    "def make_crop(link):\n",
    "    img = cv2.imread(link)\n",
    "    img = cv2.resize(img, (150, 50))\n",
    "    H,W,channel = img.shape\n",
    "    img_gray = cv2.cvtColor(img, cv2.COLOR_BGR2GRAY)\n",
    "    img_blurred = cv2.GaussianBlur(img_gray, ksize = (5,5), sigmaX = 0)\n",
    "    img_thresh = cv2.adaptiveThreshold(img_blurred, maxValue = 255.0,\n",
    "                                     adaptiveMethod = cv2.ADAPTIVE_THRESH_GAUSSIAN_C,\n",
    "                                    thresholdType = cv2.THRESH_BINARY_INV,\n",
    "                                       blockSize = 19, C = 1)\n",
    "    contours, _ = cv2.findContours(\n",
    "                    img_thresh,\n",
    "                    mode = cv2.RETR_LIST,\n",
    "                    method = cv2.CHAIN_APPROX_SIMPLE\n",
    "                    )\n",
    "        \n",
    "    temp_result = np.zeros((H,W, channel), dtype = np.uint8)\n",
    "    cv2.drawContours(temp_result, contours = contours, \n",
    "                    contourIdx = -1, color = (255,255,255))\n",
    "\n",
    "    contours_dict = []\n",
    "    for contour in contours:\n",
    "        x, y, w, h = cv2.boundingRect(contour)\n",
    "        cv2.rectangle(temp_result, pt1 = (x,y), pt2 = (x+w, y+h),\n",
    "                             color = (255,255,255), thickness = 1)\n",
    "        contours_dict.append({\n",
    "            'contour' : contour,\n",
    "            'x' : x,\n",
    "            'y' : y,\n",
    "            'w' : w,\n",
    "            'h' : h,\n",
    "            'cx' : x + (w/2),\n",
    "            'cy' : y + (h/2)\n",
    "        })\n",
    "            \n",
    "    MIN_AREA = 100\n",
    "    MAX_AREA = 800\n",
    "    MIN_WIDTH, MIN_HEIGHT = 10, 10\n",
    "    MIN_RATIO, MAX_RATIO = 0.4, 1\n",
    "    \n",
    "    possible_contours = []\n",
    "\n",
    "    cnt = 0\n",
    "\n",
    "    for d in contours_dict:\n",
    "        area = d['w'] * d['h']\n",
    "        ratio = d['w'] / d['h']\n",
    "        if (area > MIN_AREA and d['w'] > MIN_WIDTH and d['h'] > MIN_HEIGHT \n",
    "            and MIN_RATIO < ratio < MAX_RATIO and area < MAX_AREA):\n",
    "            d['idx'] = cnt\n",
    "            cnt += 1\n",
    "            possible_contours.append(d)\n",
    "        \n",
    "    temp_result = np.zeros((H, W, channel), dtype = np.uint8)\n",
    "    for d in possible_contours:\n",
    "        cv2.rectangle(temp_result, pt1 = (d['x'], d['y']), pt2 = (d['x']+d['w'], d['y']+d['h']),\n",
    "                    color = (255,255,255), thickness = 1)\n",
    "#         plt.figure(figsize=(6,5))\n",
    "    plate_img = []\n",
    "    if(len(possible_contours) < 2):\n",
    "        return\n",
    "\n",
    "    for i in range(len(possible_contours)):\n",
    "        for j in range(i, len(possible_contours)):\n",
    "            tmp = possible_contours[i]\n",
    "            if possible_contours[i]['x'] < possible_contours[j]['x']:\n",
    "                possible_contours[i] = possible_contours[j]\n",
    "                possible_contours[j] = tmp\n",
    "\n",
    "    for d in possible_contours:\n",
    "        pw = d['w']\n",
    "        ph = d['h']\n",
    "        pcx = d['cx']\n",
    "        pcy = d['cy']\n",
    "        img_cropped = cv2.getRectSubPix(\n",
    "            img,\n",
    "            patchSize = (pw, ph),\n",
    "            center = (pcx, pcy)\n",
    "            )\n",
    "        img_cropped = cv2.resize(img_cropped, (20,20))\n",
    "        plate_img.insert(0, img_cropped)\n",
    "\n",
    "#         for iii in range(len(plate_img)):\n",
    "#             plt.subplot(1, len(plate_img), iii+1)\n",
    "#             plt.imshow(plate_img[iii], cmap='gray')\n",
    "#             plt.axis('off')\n",
    "\n",
    "    for index in range(len(plate_img)):\n",
    "        fname = './result/' + link[10:-4] + '_' + str(index) + '.jpg'\n",
    "        cv2.imwrite(fname, plate_img[index])\n",
    "        "
   ]
  },
  {
   "cell_type": "code",
   "execution_count": 21,
   "id": "9d1a1bbb",
   "metadata": {},
   "outputs": [],
   "source": [
    "for i in src:\n",
    "    for j in i:\n",
    "        make_crop(j)"
   ]
  }
 ],
 "metadata": {
  "kernelspec": {
   "display_name": "Python 3 (ipykernel)",
   "language": "python",
   "name": "python3"
  },
  "language_info": {
   "codemirror_mode": {
    "name": "ipython",
    "version": 3
   },
   "file_extension": ".py",
   "mimetype": "text/x-python",
   "name": "python",
   "nbconvert_exporter": "python",
   "pygments_lexer": "ipython3",
   "version": "3.9.13"
  }
 },
 "nbformat": 4,
 "nbformat_minor": 5
}
