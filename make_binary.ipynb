{
 "cells": [
  {
   "cell_type": "code",
   "execution_count": 1,
   "id": "28f7221d",
   "metadata": {},
   "outputs": [
    {
     "name": "stdout",
     "output_type": "stream",
     "text": [
      "['./result\\\\file_10_cropped_0_0.jpg', './result\\\\file_10_cropped_0_1.jpg', './result\\\\file_10_cropped_0_2.jpg']\n",
      "['./result\\\\file_11_cropped_0_0.jpg', './result\\\\file_11_cropped_0_1.jpg', './result\\\\file_11_cropped_0_2.jpg']\n",
      "['./result\\\\file_11_cropped_1_0.jpg', './result\\\\file_11_cropped_1_1.jpg', './result\\\\file_11_cropped_1_2.jpg']\n",
      "['./result\\\\file_1_cropped_0_0.jpg', './result\\\\file_1_cropped_0_1.jpg', './result\\\\file_1_cropped_0_2.jpg']\n",
      "['./result\\\\file_2_cropped_0_0.jpg', './result\\\\file_2_cropped_0_1.jpg', './result\\\\file_2_cropped_0_2.jpg']\n",
      "['./result\\\\file_3_cropped_0_0.jpg', './result\\\\file_3_cropped_0_1.jpg', './result\\\\file_3_cropped_0_2.jpg']\n",
      "['./result\\\\file_3_cropped_1_0.jpg', './result\\\\file_3_cropped_1_1.jpg', './result\\\\file_3_cropped_1_2.jpg']\n",
      "['./result\\\\file_3_cropped_2_0.jpg', './result\\\\file_3_cropped_2_1.jpg', './result\\\\file_3_cropped_2_2.jpg']\n",
      "['./result\\\\file_4_cropped_0_0.jpg', './result\\\\file_4_cropped_0_1.jpg', './result\\\\file_4_cropped_0_2.jpg']\n",
      "['./result\\\\file_4_cropped_1_0.jpg', './result\\\\file_4_cropped_1_1.jpg', './result\\\\file_4_cropped_1_2.jpg']\n",
      "['./result\\\\file_5_cropped_0_0.jpg', './result\\\\file_5_cropped_0_1.jpg', './result\\\\file_5_cropped_0_2.jpg']\n",
      "['./result\\\\file_5_cropped_1_0.jpg', './result\\\\file_5_cropped_1_1.jpg', './result\\\\file_5_cropped_1_2.jpg']\n",
      "['./result\\\\file_5_cropped_2_0.jpg', './result\\\\file_5_cropped_2_1.jpg', './result\\\\file_5_cropped_2_2.jpg']\n",
      "['./result\\\\file_6_cropped_0_0.jpg', './result\\\\file_6_cropped_0_1.jpg', './result\\\\file_6_cropped_0_2.jpg']\n",
      "['./result\\\\file_6_cropped_1_0.jpg', './result\\\\file_6_cropped_1_1.jpg', './result\\\\file_6_cropped_1_2.jpg']\n",
      "['./result\\\\file_6_cropped_2_0.jpg', './result\\\\file_6_cropped_2_1.jpg', './result\\\\file_6_cropped_2_2.jpg']\n",
      "['./result\\\\file_6_cropped_3_0.jpg', './result\\\\file_6_cropped_3_1.jpg', './result\\\\file_6_cropped_3_2.jpg']\n",
      "['./result\\\\file_7_cropped_0_0.jpg', './result\\\\file_7_cropped_0_1.jpg', './result\\\\file_7_cropped_0_2.jpg']\n",
      "['./result\\\\file_7_cropped_1_0.jpg', './result\\\\file_7_cropped_1_1.jpg', './result\\\\file_7_cropped_1_2.jpg']\n",
      "['./result\\\\file_7_cropped_2_0.jpg', './result\\\\file_7_cropped_2_1.jpg', './result\\\\file_7_cropped_2_2.jpg']\n",
      "['./result\\\\file_8_cropped_0_0.jpg', './result\\\\file_8_cropped_0_1.jpg', './result\\\\file_8_cropped_0_2.jpg']\n",
      "['./result\\\\file_8_cropped_1_0.jpg', './result\\\\file_8_cropped_1_1.jpg', './result\\\\file_8_cropped_1_2.jpg']\n",
      "['./result\\\\file_8_cropped_2_0.jpg', './result\\\\file_8_cropped_2_1.jpg', './result\\\\file_8_cropped_2_2.jpg']\n",
      "['./result\\\\file_9_cropped_0_0.jpg', './result\\\\file_9_cropped_0_1.jpg', './result\\\\file_9_cropped_0_2.jpg']\n"
     ]
    }
   ],
   "source": [
    "import os\n",
    "import cv2\n",
    "import numpy as np\n",
    "\n",
    "dir_path = './result'\n",
    "sources = []\n",
    "for (root, directories, files) in os.walk(dir_path):\n",
    "    for file in files:\n",
    "        if '.jpg' in file:\n",
    "            file_path = os.path.join(root, file)\n",
    "            sources.append(file_path)\n",
    "            \n",
    "src = [[] for _ in range(100)]\n",
    "index = 0\n",
    "temp = sources[0]\n",
    "cnt = 0\n",
    "\n",
    "while cnt < len(sources):\n",
    "    if temp[10:-6] == sources[cnt][10:-6]:\n",
    "        src[index].append(sources[cnt])\n",
    "        temp = sources[cnt]\n",
    "        cnt += 1\n",
    "    else:\n",
    "        temp = sources[cnt]\n",
    "        index += 1\n",
    "src = list(filter(None, src))\n",
    "\n",
    "for i in src:\n",
    "    print(i)\n",
    "# thres = cv2.threshold(img, 10, 10, cv2.THRESH_BINARY)\n",
    "# plt.imshow(img, 'gray')\n"
   ]
  },
  {
   "cell_type": "code",
   "execution_count": 2,
   "id": "57f7f73a",
   "metadata": {},
   "outputs": [],
   "source": [
    "for data in src:\n",
    "    nnn = 0\n",
    "    for index in data:\n",
    "        original = cv2.imread(index, cv2.IMREAD_GRAYSCALE)\n",
    "        ret, original = cv2.threshold(original, 120, 255, cv2.THRESH_BINARY)\n",
    "        \n",
    "        N = 10\n",
    "        \n",
    "        original = cv2.resize(original, (N,N))\n",
    "        \n",
    "        for i in range(N):\n",
    "            for j in range(N):\n",
    "                original[i][j] = 255-int(original[i][j])\n",
    "                \n",
    "        bg = np.full((20,20), 255)\n",
    "        \n",
    "        for i in range(N):\n",
    "            for j in range(N):\n",
    "                bg[i+N//2][j+N//2] = original[i][j]\n",
    "        f_index = 0\n",
    "        for i in range(len(index)):\n",
    "            if index[i] == 'f':\n",
    "                c_index = i\n",
    "        fname = './the_end/'+ index[c_index:-6] + '_' + str(nnn) + '.png'\n",
    "        cv2.imwrite(fname, bg)\n",
    "        nnn+=1\n",
    "        \n",
    "        \n",
    "        \n",
    "        "
   ]
  }
 ],
 "metadata": {
  "kernelspec": {
   "display_name": "Python 3 (ipykernel)",
   "language": "python",
   "name": "python3"
  },
  "language_info": {
   "codemirror_mode": {
    "name": "ipython",
    "version": 3
   },
   "file_extension": ".py",
   "mimetype": "text/x-python",
   "name": "python",
   "nbconvert_exporter": "python",
   "pygments_lexer": "ipython3",
   "version": "3.9.13"
  }
 },
 "nbformat": 4,
 "nbformat_minor": 5
}
