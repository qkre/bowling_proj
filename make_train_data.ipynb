{
 "cells": [
  {
   "cell_type": "code",
   "execution_count": 2,
   "id": "57d1649d",
   "metadata": {},
   "outputs": [
    {
     "name": "stdout",
     "output_type": "stream",
     "text": [
      "['./train_data\\\\0 (1).jpg', './train_data\\\\0 (2).jpg', './train_data\\\\0 (3).jpg']\n",
      "['./train_data\\\\1 (1).jpg', './train_data\\\\1 (2).jpg', './train_data\\\\1 (3).jpg']\n",
      "['./train_data\\\\2 (1).jpg', './train_data\\\\2 (2).jpg', './train_data\\\\2 (3).jpg']\n",
      "['./train_data\\\\3 (1).jpg', './train_data\\\\3 (2).jpg', './train_data\\\\3 (3).jpg']\n",
      "['./train_data\\\\4 (1).jpg', './train_data\\\\4 (2).jpg', './train_data\\\\4 (3).jpg']\n",
      "['./train_data\\\\5 (1).jpg', './train_data\\\\5 (2).jpg', './train_data\\\\5 (3).jpg']\n",
      "['./train_data\\\\6 (1).jpg', './train_data\\\\6 (2).jpg', './train_data\\\\6 (3).jpg']\n",
      "['./train_data\\\\7 (1).jpg', './train_data\\\\7 (2).jpg', './train_data\\\\7 (3).jpg']\n",
      "['./train_data\\\\8 (1).jpg', './train_data\\\\8 (2).jpg', './train_data\\\\8 (3).jpg']\n",
      "['./train_data\\\\9 (1).jpg', './train_data\\\\9 (2).jpg', './train_data\\\\9 (3).jpg']\n"
     ]
    }
   ],
   "source": [
    "import os\n",
    "dir_path = './train_data'\n",
    "sources = []\n",
    "for (root, directories, files) in os.walk(dir_path):\n",
    "    for file in files:\n",
    "        if '.jpg' in file:\n",
    "            file_path = os.path.join(root, file)\n",
    "            sources.append(file_path)\n",
    "            \n",
    "src = [[] for _ in range(100)]\n",
    "index = 0\n",
    "temp = sources[0]\n",
    "cnt = 0\n",
    "\n",
    "while cnt < len(sources):\n",
    "    if temp[13:15] == sources[cnt][13:15]:\n",
    "        src[index].append(sources[cnt])\n",
    "        temp = sources[cnt]\n",
    "        cnt += 1\n",
    "    else:\n",
    "        temp = sources[cnt]\n",
    "        index += 1\n",
    "src = list(filter(None, src))\n",
    "\n",
    "for i in src:\n",
    "    print(i)\n",
    "# thres = cv2.threshold(img, 10, 10, cv2.THRESH_BINARY)\n",
    "# plt.imshow(img, 'gray')\n"
   ]
  },
  {
   "cell_type": "code",
   "execution_count": 3,
   "id": "276856ae",
   "metadata": {},
   "outputs": [],
   "source": [
    "import pytesseract\n",
    "import cv2\n",
    "import numpy as np\n",
    "for data in src:\n",
    "    for index in data:\n",
    "        for pls in range(10, 50, 10):\n",
    "            original = cv2.imread(index, cv2.IMREAD_GRAYSCALE)\n",
    "            ret, original = cv2.threshold(original, 120+pls, 255, cv2.THRESH_BINARY)\n",
    "\n",
    "            N = 10\n",
    "\n",
    "            original = cv2.resize(original, (N,N))\n",
    "            for i in range(N):\n",
    "                for j in range(N):\n",
    "                    original[i][j] = 255-int(original[i][j])\n",
    "\n",
    "\n",
    "            bg = np.full((20,20), 255)\n",
    "\n",
    "            for i in range(N):\n",
    "                for j in range(N):\n",
    "                    bg[i+N//2][j+N//2] = original[i][j]\n",
    "            fname = index[:-4] + '_' + str(pls) + '.png'\n",
    "            cv2.imwrite(fname, bg)\n",
    "\n"
   ]
  }
 ],
 "metadata": {
  "kernelspec": {
   "display_name": "Python 3 (ipykernel)",
   "language": "python",
   "name": "python3"
  },
  "language_info": {
   "codemirror_mode": {
    "name": "ipython",
    "version": 3
   },
   "file_extension": ".py",
   "mimetype": "text/x-python",
   "name": "python",
   "nbconvert_exporter": "python",
   "pygments_lexer": "ipython3",
   "version": "3.9.13"
  }
 },
 "nbformat": 4,
 "nbformat_minor": 5
}
